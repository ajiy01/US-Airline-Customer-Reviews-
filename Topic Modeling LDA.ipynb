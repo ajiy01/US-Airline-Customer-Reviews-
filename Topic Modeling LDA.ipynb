{
 "cells": [
  {
   "cell_type": "code",
   "execution_count": null,
   "id": "5d8bc4e1",
   "metadata": {},
   "outputs": [],
   "source": [
    "import pandas as pd\n",
    "import numpy as np"
   ]
  },
  {
   "cell_type": "code",
   "execution_count": null,
   "id": "e325f982",
   "metadata": {},
   "outputs": [],
   "source": [
    "df = pd.read_csv('UA_reviews.csv')\n",
    "df = df.loc[:, ~df.columns.str.contains('^Unnamed')]\n",
    "df"
   ]
  },
  {
   "cell_type": "code",
   "execution_count": null,
   "id": "b37fa208",
   "metadata": {},
   "outputs": [],
   "source": [
    "import re \n",
    "def review_cleaner(reviews):\n",
    "    pattern = r'[^\\w\\s]'\n",
    "    reviews = re.sub(pattern, '', reviews)\n",
    "    reviews = re.sub('✅', '', reviews) # remove checkmark emojis\n",
    "    reviews = re.sub('❌', '', reviews) # remove X emojis\n",
    "    reviews = re.sub('Trip Verified', '', reviews) # remove Trip Verified\n",
    "    reviews = re.sub('Not Verified\\s*\\|?\\s*', '', reviews) # remove Not Verified\n",
    "    reviews = re.sub('Verified Review', '', reviews)\n",
    "    reviews = re.sub(r'[^\\w\\s]', '', reviews)\n",
    "    reviews = reviews.replace('|', '') # Remove Vertical Bar\n",
    "    reviews = reviews.lower() # Lowercase the text\n",
    "    return reviews\n",
    "\n",
    "df['clean_reviews'] = df['reviews'].apply(review_cleaner)\n",
    "df"
   ]
  },
  {
   "cell_type": "code",
   "execution_count": null,
   "id": "b2b3192b",
   "metadata": {},
   "outputs": [],
   "source": [
    "## Removing Stopwords\n",
    "import nltk \n",
    "nltk.download('stopwords')\n",
    "stopwords = nltk.corpus.stopwords.words('english')\n",
    "\n",
    "df['reviews_wo_stopwords'] = df['clean_reviews'].apply(lambda x: ' '.join([w for w in x.split() if w.lower() not in stopwords]))\n",
    "df"
   ]
  },
  {
   "cell_type": "code",
   "execution_count": null,
   "id": "e37370f9",
   "metadata": {
    "scrolled": false
   },
   "outputs": [],
   "source": [
    "from nltk.stem import WordNetLemmatizer\n",
    "from nltk.tokenize import word_tokenize\n",
    "\n",
    "lemmatizer = WordNetLemmatizer()\n",
    "\n",
    "# Function to lemmatize text\n",
    "def lemmatize_text(text):\n",
    "    tokens = word_tokenize(text)  # Tokenize the text\n",
    "    lemmatized_tokens = [lemmatizer.lemmatize(token) for token in tokens]  # Lemmatize each token\n",
    "    return ' '.join(lemmatized_tokens)\n",
    "\n",
    "df['reviews_lemmatized'] = df['reviews_wo_stopwords'].apply(lemmatize_text)\n",
    "df"
   ]
  },
  {
   "cell_type": "code",
   "execution_count": null,
   "id": "8c8b1000",
   "metadata": {
    "scrolled": true
   },
   "outputs": [],
   "source": [
    "import gensim\n",
    "from gensim import corpora\n",
    "from gensim.corpora.dictionary import Dictionary\n",
    "from gensim.models.ldamodel import LdaModel\n",
    "from gensim.models.coherencemodel import CoherenceModel\n",
    "\n",
    "reviews_lemmatized = df['reviews_lemmatized'].tolist()\n",
    "\n",
    "reviews_lemmatized = [text.split() for text in reviews_lemmatized]\n",
    "\n",
    "def preprocess_text(text):\n",
    "    return gensim.utils.simple_preprocess(text)\n",
    "\n",
    "processed_data = df['clean_reviews'].apply(preprocess_text)\n",
    "\n",
    "# Create dictionary and corpus\n",
    "dictionary = corpora.Dictionary(processed_data)\n",
    "corpus = [dictionary.doc2bow(doc) for doc in processed_data]\n",
    "\n",
    "# Build LDA model\n",
    "lda_model = gensim.models.LdaModel(corpus=corpus, id2word=dictionary, num_topics=5, passes=10, chunksize=500)\n",
    "\n",
    "# Print top topics and top words in each topic\n",
    "for idx, topic in lda_model.print_topics(-1):\n",
    "    print(f'Topic: {idx} \\nWords: {topic}\\n')\n",
    "\n",
    "# Assign topics to documents\n",
    "for i, doc in enumerate(corpus):\n",
    "    topics = lda_model.get_document_topics(doc)\n",
    "    print(f\"Document {i}: {topics}\")"
   ]
  },
  {
   "cell_type": "code",
   "execution_count": null,
   "id": "151da052",
   "metadata": {},
   "outputs": [],
   "source": [
    "import pandas as pd\n",
    "import gensim\n",
    "from gensim.models import LdaModel\n",
    "from gensim.corpora import Dictionary\n",
    "\n",
    "# Preprocess text data\n",
    "processed_data = df['reviews_lemmatized'].apply(preprocess_text)\n",
    "\n",
    "# Load the trained LDA model and dictionary\n",
    "lda_model = gensim.models.LdaModel(corpus=corpus, id2word=dictionary, num_topics=5, passes=10, chunksize=500)\n",
    "dictionary = corpora.Dictionary(processed_data)\n",
    "\n",
    "# Function to get top 5 topics for each document\n",
    "def get_top_topics(doc):\n",
    "    bow = dictionary.doc2bow(doc)\n",
    "    topics = lda_model.get_document_topics(bow)\n",
    "    top_topics = sorted(topics, key=lambda x: x[1], reverse=True)[:5]  # Get top 5 topics\n",
    "    return top_topics\n",
    "\n",
    "# Apply the function to each row of the DataFrame\n",
    "df['top_topics'] = processed_data.apply(get_top_topics)\n",
    "\n",
    "# Optionally, retrieve the top words associated with each topic\n",
    "def get_top_words(topics):\n",
    "    return [(lda_model.show_topic(topic[0], topn=5)) for topic in topics]\n",
    "\n",
    "df['top_words'] = df['top_topics'].apply(get_top_words)\n",
    "\n",
    "# Display the DataFrame with top topics and words\n",
    "print(df[['reviews_lemmatized', 'top_topics', 'top_words']])\n"
   ]
  },
  {
   "cell_type": "code",
   "execution_count": null,
   "id": "11438d0d",
   "metadata": {},
   "outputs": [],
   "source": [
    "topics - 10\n",
    "import gensim\n",
    "from gensim.models import CoherenceModel\n",
    "\n",
    "# Assuming lda_model is your trained LDA model\n",
    "\n",
    "\n",
    "# Coherence Score\n",
    "coherence_model_lda = CoherenceModel(model=lda_model, texts=processed_data, dictionary=dictionary, coherence='c_v')\n",
    "coherence_lda = coherence_model_lda.get_coherence()\n",
    "print(f'Coherence Score: {coherence_lda}')"
   ]
  }
 ],
 "metadata": {
  "kernelspec": {
   "display_name": "nlp",
   "language": "python",
   "name": "nlp"
  },
  "language_info": {
   "codemirror_mode": {
    "name": "ipython",
    "version": 3
   },
   "file_extension": ".py",
   "mimetype": "text/x-python",
   "name": "python",
   "nbconvert_exporter": "python",
   "pygments_lexer": "ipython3",
   "version": "3.11.8"
  }
 },
 "nbformat": 4,
 "nbformat_minor": 5
}
