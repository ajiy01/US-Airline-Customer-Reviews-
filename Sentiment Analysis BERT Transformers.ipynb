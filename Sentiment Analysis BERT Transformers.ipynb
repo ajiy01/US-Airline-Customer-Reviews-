{
 "cells": [
  {
   "cell_type": "code",
   "execution_count": null,
   "id": "c99e822d",
   "metadata": {},
   "outputs": [],
   "source": [
    "import pandas as pd"
   ]
  },
  {
   "cell_type": "code",
   "execution_count": null,
   "id": "f3210b49",
   "metadata": {},
   "outputs": [],
   "source": [
    "df = pd.read_csv('')\n",
    "df = df.loc[:, ~df.columns.str.contains('^Unnamed')]\n",
    "df"
   ]
  },
  {
   "cell_type": "code",
   "execution_count": null,
   "id": "5dad3c6b",
   "metadata": {
    "scrolled": false
   },
   "outputs": [],
   "source": [
    "import re \n",
    "def review_cleaner(reviews):\n",
    "    pattern = r'[^\\w\\s]'\n",
    "    reviews = re.sub(pattern, '', reviews)\n",
    "    reviews = re.sub('✅', '', reviews) # remove checkmark emojis\n",
    "    reviews = re.sub('❌', '', reviews) # remove X emojis\n",
    "    reviews = re.sub('Trip Verified', '', reviews) # remove Trip Verified\n",
    "    reviews = re.sub('Not Verified\\s*\\|?\\s*', '', reviews) # remove Not Verified\n",
    "    reviews = re.sub('Verified Review', '', reviews)\n",
    "    reviews = reviews.replace('|', '') # Remove Vertical Bar\n",
    "    reviews = reviews.lower() # Lowercase the text\n",
    "    return reviews\n",
    "\n",
    "df['clean_reviews'] = df['Reviews'].apply(review_cleaner)\n",
    "df"
   ]
  },
  {
   "cell_type": "code",
   "execution_count": null,
   "id": "fcfecba5",
   "metadata": {},
   "outputs": [],
   "source": [
    "from nltk.corpus import stopwords\n",
    "from nltk.tokenize import word_tokenize\n",
    "\n",
    "def preprocess(reviews):\n",
    "    stop_words = set(stopwords.words('english'))  # Load English stopwords from NLTK\n",
    "    words = reviews.split()  # Tokenize text into words\n",
    "    filtered_words = [word for word in words if word.lower() not in stop_words]  # Remove stopwords\n",
    "    return ' '.join(filtered_words)\n",
    "\n",
    "df['clean_reviews2'] = df['clean_reviews'].apply(preprocess)\n",
    "df"
   ]
  },
  {
   "cell_type": "code",
   "execution_count": null,
   "id": "87452588",
   "metadata": {},
   "outputs": [],
   "source": [
    "def df_split(df):\n",
    "    num_dfs = len(df) // 500 + 1\n",
    "    dfs = []\n",
    "    for i in range(num_dfs):\n",
    "        start_idx = i * 500\n",
    "        end_idx = min((i + 1) * 500, len(df))\n",
    "        var_name = f\"df{i}\"  # Create a variable name\n",
    "        split_df = pd.DataFrame(df[start_idx:end_idx])\n",
    "        # Store the DataFrame using the variable name\n",
    "        globals()[var_name] = split_df\n",
    "        dfs.append(split_df)  # Append the DataFrame to the list\n",
    "        \n",
    "    return dfs\n",
    "\n",
    "# Example usage:\n",
    "dfs = df_split(df)\n",
    "print(dfs)"
   ]
  },
  {
   "cell_type": "code",
   "execution_count": null,
   "id": "56ed6a63",
   "metadata": {
    "scrolled": true
   },
   "outputs": [],
   "source": [
    "from transformers import pipeline\n",
    "sentiment_analysis = pipeline(\"text-classification\", model=\"finiteautomata/bertweet-base-sentiment-analysis\")"
   ]
  },
  {
   "cell_type": "code",
   "execution_count": null,
   "id": "116c85fb",
   "metadata": {},
   "outputs": [],
   "source": [
    "def get_sentiment(text):\n",
    "    try:\n",
    "        sentiment = sentiment_analysis(text[:512])\n",
    "        return sentiment[0]['label']\n",
    "    except:\n",
    "        return \"Error\""
   ]
  },
  {
   "cell_type": "code",
   "execution_count": null,
   "id": "e1be314c",
   "metadata": {},
   "outputs": [],
   "source": [
    "for som in dfs:\n",
    "    som['sentiment'] = som['clean_reviews2'].apply(get_sentiment)"
   ]
  },
  {
   "cell_type": "code",
   "execution_count": null,
   "id": "1474dc9c",
   "metadata": {},
   "outputs": [],
   "source": [
    "concatenated_df = pd.concat(dfs, ignore_index=True)\n",
    "concatenated_df"
   ]
  },
  {
   "cell_type": "code",
   "execution_count": null,
   "id": "f8a6ce6e",
   "metadata": {},
   "outputs": [],
   "source": [
    "df_filtered = concatenated_df[~concatenated_df['sentiment'].str.contains('Error', na=False)]\n",
    "df_filtered"
   ]
  },
  {
   "cell_type": "code",
   "execution_count": null,
   "id": "9dadd670",
   "metadata": {},
   "outputs": [],
   "source": [
    "concatenated_df.to_csv('alaska-airlines/Alaska_Reviews_Clean.csv', index = False)"
   ]
  }
 ],
 "metadata": {
  "kernelspec": {
   "display_name": "nlp",
   "language": "python",
   "name": "nlp"
  },
  "language_info": {
   "codemirror_mode": {
    "name": "ipython",
    "version": 3
   },
   "file_extension": ".py",
   "mimetype": "text/x-python",
   "name": "python",
   "nbconvert_exporter": "python",
   "pygments_lexer": "ipython3",
   "version": "3.11.8"
  }
 },
 "nbformat": 4,
 "nbformat_minor": 5
}
